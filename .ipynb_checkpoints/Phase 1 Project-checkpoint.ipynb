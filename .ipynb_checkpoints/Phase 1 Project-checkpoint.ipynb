{
 "cells": [
  {
   "cell_type": "code",
   "execution_count": 18,
   "id": "66637e9e-4b83-41cf-beba-6f24252ce08b",
   "metadata": {},
   "outputs": [],
   "source": [
    "import pandas as pd\n",
    "df = pd.read_csv('AviationData.csv', encoding = 'mac_roman', low_memory = False)"
   ]
  },
  {
   "cell_type": "code",
   "execution_count": 19,
   "id": "c8367926",
   "metadata": {},
   "outputs": [],
   "source": [
    "df.drop(['Event.Id', 'Air.carrier', 'Latitude', 'Longitude', 'Airport.Code', 'Injury.Severity', 'Schedule', 'Purpose.of.flight'], axis=1, inplace = True)"
   ]
  },
  {
   "cell_type": "code",
   "execution_count": 20,
   "id": "c644b6a3",
   "metadata": {
    "scrolled": true
   },
   "outputs": [],
   "source": [
    "amateur_built = df['Amateur.Built'] == 'Yes'\n",
    "df = df[~amateur_built]"
   ]
  },
  {
   "cell_type": "code",
   "execution_count": 21,
   "id": "62ac50a2",
   "metadata": {},
   "outputs": [
    {
     "data": {
      "text/plain": [
       "Amateur.Built\n",
       "No    80312\n",
       "Name: count, dtype: int64"
      ]
     },
     "execution_count": 21,
     "metadata": {},
     "output_type": "execute_result"
    }
   ],
   "source": [
    "df['Amateur.Built'].value_counts()"
   ]
  },
  {
   "cell_type": "code",
   "execution_count": 22,
   "id": "993ea962",
   "metadata": {},
   "outputs": [],
   "source": [
    "df = df[df['Aircraft.Category'] == 'Airplane']"
   ]
  },
  {
   "cell_type": "code",
   "execution_count": 23,
   "id": "20264cf3",
   "metadata": {},
   "outputs": [
    {
     "data": {
      "text/plain": [
       "Aircraft.Category\n",
       "Airplane    24434\n",
       "Name: count, dtype: int64"
      ]
     },
     "execution_count": 23,
     "metadata": {},
     "output_type": "execute_result"
    }
   ],
   "source": [
    "df['Aircraft.Category'].value_counts()"
   ]
  },
  {
   "cell_type": "code",
   "execution_count": 25,
   "id": "6724fc12",
   "metadata": {},
   "outputs": [
    {
     "data": {
      "text/plain": [
       "18"
      ]
     },
     "execution_count": 25,
     "metadata": {},
     "output_type": "execute_result"
    }
   ],
   "source": [
    "df['Model'].isna().sum()"
   ]
  },
  {
   "cell_type": "code",
   "execution_count": 27,
   "id": "0f04fdf1",
   "metadata": {},
   "outputs": [],
   "source": [
    "df.dropna(subset = ['Make', 'Model'], inplace = True)"
   ]
  },
  {
   "cell_type": "code",
   "execution_count": 28,
   "id": "8e8ee621",
   "metadata": {},
   "outputs": [
    {
     "data": {
      "text/plain": [
       "0"
      ]
     },
     "execution_count": 28,
     "metadata": {},
     "output_type": "execute_result"
    }
   ],
   "source": [
    "df['Make'].isna().sum()"
   ]
  },
  {
   "cell_type": "code",
   "execution_count": 29,
   "id": "95286a2e",
   "metadata": {},
   "outputs": [],
   "source": [
    "incidents = df['Investigation.Type'] == 'Incident'\n",
    "df = df[~incidents]"
   ]
  },
  {
   "cell_type": "code",
   "execution_count": 30,
   "id": "3d31fbf3",
   "metadata": {},
   "outputs": [
    {
     "data": {
      "text/plain": [
       "Investigation.Type\n",
       "Accident    22787\n",
       "Name: count, dtype: int64"
      ]
     },
     "execution_count": 30,
     "metadata": {},
     "output_type": "execute_result"
    }
   ],
   "source": [
    "df['Investigation.Type'].value_counts()"
   ]
  },
  {
   "cell_type": "code",
   "execution_count": 33,
   "id": "9533e623",
   "metadata": {},
   "outputs": [],
   "source": [
    "df = df.drop(columns = 'Amateur.Built')"
   ]
  },
  {
   "cell_type": "code",
   "execution_count": 34,
   "id": "3c2aa4d7",
   "metadata": {
    "scrolled": true
   },
   "outputs": [
    {
     "name": "stdout",
     "output_type": "stream",
     "text": [
      "<class 'pandas.core.frame.DataFrame'>\n",
      "Index: 22787 entries, 5 to 88886\n",
      "Data columns (total 22 columns):\n",
      " #   Column                  Non-Null Count  Dtype  \n",
      "---  ------                  --------------  -----  \n",
      " 0   Investigation.Type      22787 non-null  object \n",
      " 1   Accident.Number         22787 non-null  object \n",
      " 2   Event.Date              22787 non-null  object \n",
      " 3   Location                22784 non-null  object \n",
      " 4   Country                 22780 non-null  object \n",
      " 5   Airport.Name            15249 non-null  object \n",
      " 6   Aircraft.damage         22333 non-null  object \n",
      " 7   Aircraft.Category       22787 non-null  object \n",
      " 8   Registration.Number     22636 non-null  object \n",
      " 9   Make                    22787 non-null  object \n",
      " 10  Model                   22787 non-null  object \n",
      " 11  Number.of.Engines       20972 non-null  float64\n",
      " 12  Engine.Type             19682 non-null  object \n",
      " 13  FAR.Description         22509 non-null  object \n",
      " 14  Total.Fatal.Injuries    20132 non-null  float64\n",
      " 15  Total.Serious.Injuries  20051 non-null  float64\n",
      " 16  Total.Minor.Injuries    20330 non-null  float64\n",
      " 17  Total.Uninjured         22099 non-null  float64\n",
      " 18  Weather.Condition       20840 non-null  object \n",
      " 19  Broad.phase.of.flight   5630 non-null   object \n",
      " 20  Report.Status           19088 non-null  object \n",
      " 21  Publication.Date        22050 non-null  object \n",
      "dtypes: float64(5), object(17)\n",
      "memory usage: 4.0+ MB\n"
     ]
    }
   ],
   "source": [
    "df.info()"
   ]
  },
  {
   "cell_type": "code",
   "execution_count": 35,
   "id": "8d97ac1a",
   "metadata": {},
   "outputs": [],
   "source": [
    "currentheaders = list(df.columns.values)\n",
    "df.columns = [c.replace('.', ' ').title() for c in currentheaders]"
   ]
  },
  {
   "cell_type": "code",
   "execution_count": 36,
   "id": "4a86ec50",
   "metadata": {},
   "outputs": [
    {
     "name": "stdout",
     "output_type": "stream",
     "text": [
      "<class 'pandas.core.frame.DataFrame'>\n",
      "Index: 22787 entries, 5 to 88886\n",
      "Data columns (total 22 columns):\n",
      " #   Column                  Non-Null Count  Dtype  \n",
      "---  ------                  --------------  -----  \n",
      " 0   Investigation Type      22787 non-null  object \n",
      " 1   Accident Number         22787 non-null  object \n",
      " 2   Event Date              22787 non-null  object \n",
      " 3   Location                22784 non-null  object \n",
      " 4   Country                 22780 non-null  object \n",
      " 5   Airport Name            15249 non-null  object \n",
      " 6   Aircraft Damage         22333 non-null  object \n",
      " 7   Aircraft Category       22787 non-null  object \n",
      " 8   Registration Number     22636 non-null  object \n",
      " 9   Make                    22787 non-null  object \n",
      " 10  Model                   22787 non-null  object \n",
      " 11  Number Of Engines       20972 non-null  float64\n",
      " 12  Engine Type             19682 non-null  object \n",
      " 13  Far Description         22509 non-null  object \n",
      " 14  Total Fatal Injuries    20132 non-null  float64\n",
      " 15  Total Serious Injuries  20051 non-null  float64\n",
      " 16  Total Minor Injuries    20330 non-null  float64\n",
      " 17  Total Uninjured         22099 non-null  float64\n",
      " 18  Weather Condition       20840 non-null  object \n",
      " 19  Broad Phase Of Flight   5630 non-null   object \n",
      " 20  Report Status           19088 non-null  object \n",
      " 21  Publication Date        22050 non-null  object \n",
      "dtypes: float64(5), object(17)\n",
      "memory usage: 4.0+ MB\n"
     ]
    }
   ],
   "source": [
    "df.info()"
   ]
  },
  {
   "cell_type": "code",
   "execution_count": 37,
   "id": "28148382",
   "metadata": {},
   "outputs": [],
   "source": [
    "df['Country'] = df['Country'].str.upper()\n",
    "df['Airport Name'] = df['Airport Name'].str.upper()"
   ]
  },
  {
   "cell_type": "code",
   "execution_count": 38,
   "id": "54b88f69",
   "metadata": {},
   "outputs": [
    {
     "name": "stdout",
     "output_type": "stream",
     "text": [
      "5        UNITED STATES\n",
      "7        UNITED STATES\n",
      "8        UNITED STATES\n",
      "12       UNITED STATES\n",
      "13       UNITED STATES\n",
      "             ...      \n",
      "88869    UNITED STATES\n",
      "88873    UNITED STATES\n",
      "88876    UNITED STATES\n",
      "88877    UNITED STATES\n",
      "88886    UNITED STATES\n",
      "Name: Country, Length: 22787, dtype: object\n",
      "5                                   NaN\n",
      "7                    BLACKBURN AG STRIP\n",
      "8                               HANOVER\n",
      "12                                  NaN\n",
      "13                     HEARNE MUNICIPAL\n",
      "                      ...              \n",
      "88869        LEWISTON MUNICIPAL AIRPORT\n",
      "88873     FERNANDO LUIS RIBAS DOMINICCI\n",
      "88876    WICHITA DWIGHT D EISENHOWER NT\n",
      "88877        BROOKSVILLE-TAMPA BAY RGNL\n",
      "88886                            PAYSON\n",
      "Name: Airport Name, Length: 22787, dtype: object\n"
     ]
    }
   ],
   "source": [
    "print(df['Country'])\n",
    "print(df['Airport Name'])"
   ]
  },
  {
   "cell_type": "code",
   "execution_count": null,
   "id": "c24ef8b3",
   "metadata": {},
   "outputs": [],
   "source": []
  }
 ],
 "metadata": {
  "kernelspec": {
   "display_name": "Python 3 (ipykernel)",
   "language": "python",
   "name": "python3"
  },
  "language_info": {
   "codemirror_mode": {
    "name": "ipython",
    "version": 3
   },
   "file_extension": ".py",
   "mimetype": "text/x-python",
   "name": "python",
   "nbconvert_exporter": "python",
   "pygments_lexer": "ipython3",
   "version": "3.11.5"
  }
 },
 "nbformat": 4,
 "nbformat_minor": 5
}
